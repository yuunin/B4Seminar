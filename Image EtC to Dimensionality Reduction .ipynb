{
 "cells": [
  {
   "cell_type": "code",
   "execution_count": 1,
   "metadata": {},
   "outputs": [],
   "source": [
    "import os\n",
    "import cv2\n",
    "import re\n",
    "import numpy as np\n",
    "import time\n",
    "import warnings \n",
    "%matplotlib inline\n",
    "import matplotlib.pyplot as plt\n",
    "\n",
    "warnings.filterwarnings(\"ignore\")"
   ]
  },
  {
   "cell_type": "code",
   "execution_count": 25,
   "metadata": {},
   "outputs": [],
   "source": [
    "#原画像の読み込み\n",
    "org_img_folder_path = \"/home/Yuunin/B4Seminar/CroppedYale/\"\n",
    "labels_org = []\n",
    "images_org = []\n",
    "\n",
    "for subfolders in os.listdir(org_img_folder_path):\n",
    "    if subfolders != \".DS_Store\":\n",
    "        for image_name in os.listdir(org_img_folder_path + subfolders):\n",
    "            image = cv2.imread(org_img_folder_path + subfolders + \"/\" + image_name)\n",
    "            image = cv2.resize(image, (32, 32))\n",
    "            image = cv2.cvtColor(image, cv2.COLOR_BGR2GRAY)\n",
    "            images_org.append(image.flatten())\n",
    "            labels_org.append(re.sub(r\"[a-zA-Z]\", \"\", subfolders))\n",
    "\n",
    "images_dataset = np.array(images_org)"
   ]
  },
  {
   "cell_type": "code",
   "execution_count": null,
   "metadata": {},
   "outputs": [],
   "source": [
    "#暗号化した画像の読み込み\n",
    "EtC_img_folder_path = \"\"\n",
    "labels_EtC = []\n",
    "images_EtC = []\n",
    "\n",
    "for subfolders in os.listdir(EtC_img_folder_path):\n",
    "    if subfolders != \".DS_Store\":\n",
    "        for image_name in os.listdir(EtC_img_folder_path + subfolders):\n",
    "            image = cv2.imread(EtC_img_folder_path + subfolders + \"/\" + image_name)\n",
    "            image = cv2.resize(image, (32, 32))\n",
    "            image = cv2.cvtColor(image, cv2.COLOR_BGR2GRAY)\n",
    "            images_EtC.append(image.flatten())\n",
    "            labels_EtC.append(re.sub(r\"[a-zA-Z]\", \"\", subfolders))\n",
    "\n",
    "images_dataset = np.array(images_EtC)"
   ]
  }
 ],
 "metadata": {
  "kernelspec": {
   "display_name": "Python 3",
   "language": "python",
   "name": "python3"
  },
  "language_info": {
   "codemirror_mode": {
    "name": "ipython",
    "version": 3
   },
   "file_extension": ".py",
   "mimetype": "text/x-python",
   "name": "python",
   "nbconvert_exporter": "python",
   "pygments_lexer": "ipython3",
   "version": "3.7.3"
  }
 },
 "nbformat": 4,
 "nbformat_minor": 2
}
